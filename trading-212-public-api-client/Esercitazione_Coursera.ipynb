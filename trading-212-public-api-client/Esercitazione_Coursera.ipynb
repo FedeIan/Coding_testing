import yfinance as yf
import pandas as pd
import numpy as np
import matplotlib.pyplot as plt
from scipy.stats import norm, t, genpareto
from arch import arch_model
from sklearn.neighbors import KernelDensity

# === CONFIGURAZIONE ===
TICKER = "PLTR"
INTERVALLO = "1d"
PERIODO = "1y"


# === METODI PER IL RISCHIO DI CODA ===
def var_normale(log_returns):
    """Approccio classico con distribuzione normale"""
    mu = log_returns.mean()
    sigma = log_returns.std()
    return norm.ppf(0.05, mu, sigma)


def var_t_student(log_returns):
    """Distribuzione t-Student con code più pesanti"""
    params = t.fit(log_returns.dropna())
    nu, mu_t, sigma_t = params
    return t.ppf(0.05, *params)


def var_evt_gpd(log_returns, threshold=0.10):
    """Extreme Value Theory (Generalized Pareto Distribution)"""
    soglia = log_returns.quantile(threshold)
    eccessi = log_returns[log_returns < soglia] - soglia
    c, _, scale = genpareto.fit(eccessi, floc=0)
    return soglia + (scale / -c) * ((0.05 / threshold) ** (-c) - 1)


def var_garch_montecarlo(log_returns, n_sim=5000):
    """Simulazioni Monte Carlo con modello GARCH(1,1)"""
    model = arch_model(log_returns * 100, mean='Zero', vol='GARCH', p=1, q=1)
    result = model.fit(disp='off')
    forecasts = result.forecast(horizon=1, method='simulation', simulations=n_sim)
    return np.  percentile(forecasts.simulations.values[-1, :, 0] / 100, 5)


def var_kde(log_returns):
    """Kernel Density Estimation (non-parametrico)"""
    kde = KernelDensity(bandwidth=0.001).fit(log_returns.values.reshape(-1, 1))
    x = np.linspace(log_returns.min(), log_returns.max(), 1000)
    logprob = kde.score_samples(x.reshape(-1, 1))
    cdf = np.exp(logprob).cumsum() * (x[1] - x[0])
    return x[np.argmax(cdf >= 0.05)]


def var_storico(log_returns):
    """Metodo storico empirico"""
    return np.quantile(log_returns, 0.05)


# === FUNZIONE PRINCIPALE ===
def analisi_rischio(ticker, periodo, intervallo):
    dati = yf.download(ticker, period=periodo, interval=intervallo)
    dati['LogReturn'] = np.log(dati['Close']).diff().shift(-1)
    log_returns = dati['LogReturn'].dropna()
    # we will use log return for average stock return of Microsoft

    dati['logReturn'] = np.log(dati['Close'].shift(-1)) - np.log(dati['Close'])
    # Lets build 90% confidence interval for log return
    sample_size = dati['logReturn'].shape[0]
    sample_mean = dati['logReturn'].mean()
    sample_std = dati['logReturn'].std(ddof=1) / sample_size ** 0.5

    # left and right quantile
    z_left = norm.ppf(0.1)
    z_right = norm.ppf(0.9)

    # upper and lower bound
    interval_left = sample_mean + z_left * sample_std
    interval_right = sample_mean + z_right * sample_std
    # 90% confidence interval tells you that there will be 90% chance that the average stock return lies between "interval_left"
    # and "interval_right".

    print('90% confidence interval is ', (interval_left, interval_right))
    print(f"\n=== RISULTATI PER {ticker} ===")
    print(f"Intervallo: {intervallo}, Periodo: {periodo}")
    print(f"Numero osservazioni: {len(log_returns)}")

    sample_mean = dati['logReturn'].mean()
    sample_std = dati['logReturn'].std(ddof=1)
    n = dati['logReturn'].shape[0]

    # if sample size n is large enough, we can use z-distribution, instead of t-distribtuion
    # mu = 0 under the null hypothesis
    zhat = (sample_mean - 0) / (sample_std / n ** 0.5)
    print(zhat)

    # confidence level
    alpha = 0.05

    zleft = norm.ppf(alpha / 2, 0, 1)
    zright = -zleft  # z-distribution is symmetric
    print('Z Left e Zright sono ', zleft, zright)
    print('At significant level of {}, shall we reject: {}'.format(alpha, zhat > zright or zhat < zleft))

    # step 2
    sample_mean_2= dati['logReturn'].mean()
    sample_std_2 = dati['logReturn'].std(ddof=1)
    n_2 = dati['logReturn'].shape[0]

    # if sample size n is large enough, we can use z-distribution, instead of t-distribtuion
    # mu = 0 under the null hypothesis
    zhat = None
    print('Z cappello vale ',zhat)
    # Calcolo tutti i VAR
    metodi = {
        'Normale': var_normale,
        't-Student': var_t_student,
        'EVT-GPD': var_evt_gpd,
        'GARCH-MC': var_garch_montecarlo,
        'KDE': var_kde,
        'Storico': var_storico
    }

    risultati = {}
    for nome, metodo in metodi.items():
        try:
            risultati[nome] = metodo(log_returns)
            print(f"{nome}: {risultati[nome]:.4%}")
        except Exception as e:
            print(f"Errore in {nome}: {str(e)}")

    # Plot comparativo
    plt.figure(figsize=(12, 6))
    log_returns.hist(bins=50, density=True, alpha=0.5)
    x = np.linspace(log_returns.min(), log_returns.max(), 1000)
    plt.plot(x, norm.pdf(x, log_returns.mean(), log_returns.std()))
    plt.title('Confronto Distribuzioni')
    plt.show()

    return risultati


# === ESECUZIONE ===
if __name__ == "__main__":
    risultati = analisi_rischio(TICKER, PERIODO, INTERVALLO)